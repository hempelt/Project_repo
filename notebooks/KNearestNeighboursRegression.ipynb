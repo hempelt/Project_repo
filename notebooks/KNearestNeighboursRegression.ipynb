{
 "cells": [
  {
   "cell_type": "code",
   "execution_count": 1,
   "id": "7154f7b9",
   "metadata": {},
   "outputs": [
    {
     "name": "stdout",
     "output_type": "stream",
     "text": [
      "Root Mean Squared Error (RMSE): 5.45\n",
      "R² Score: 0.78\n"
     ]
    }
   ],
   "source": [
    "import pandas as pd\n",
    "import numpy as np\n",
    "from sklearn.model_selection import train_test_split\n",
    "from sklearn.preprocessing import StandardScaler\n",
    "from sklearn.neighbors import KNeighborsRegressor\n",
    "from sklearn.metrics import mean_squared_error, r2_score\n",
    "\n",
    "# --- CSV-Datei laden\n",
    "df = pd.read_csv(r'C:\\Users\\hempe\\Studium\\Real_Project\\Project_repo\\data\\processed\\preprocessed_data.csv')\n",
    "\n",
    "# --- Eingabe- und Zielvariablen definieren\n",
    "X = df.drop(columns=['tm_c'])  # Features ohne Zielspalte\n",
    "y = df['tm_c']                 # Zielvariable\n",
    "\n",
    "# --- Train/Test-Split\n",
    "X_train, X_test, y_train, y_test = train_test_split(X, y, test_size=0.2, random_state=42)\n",
    "\n",
    "# --- Feature Scaling (empfohlen für KNN)\n",
    "scaler = StandardScaler()\n",
    "X_train_scaled = scaler.fit_transform(X_train)\n",
    "X_test_scaled = scaler.transform(X_test)\n",
    "\n",
    "# --- KNN Regressor trainieren\n",
    "model = KNeighborsRegressor(n_neighbors=5)  # Standardmäßig k=5\n",
    "model.fit(X_train_scaled, y_train)\n",
    "\n",
    "# --- Vorhersagen und Bewertung\n",
    "y_pred = model.predict(X_test_scaled)\n",
    "\n",
    "# --- Evaluation\n",
    "mse = mean_squared_error(y_test, y_pred)\n",
    "rmse = np.sqrt(mse)\n",
    "r2 = r2_score(y_test, y_pred)\n",
    "\n",
    "print(f\"Root Mean Squared Error (RMSE): {rmse:.2f}\")\n",
    "print(f\"R² Score: {r2:.2f}\")\n"
   ]
  }
 ],
 "metadata": {
  "kernelspec": {
   "display_name": "project_env",
   "language": "python",
   "name": "python3"
  },
  "language_info": {
   "codemirror_mode": {
    "name": "ipython",
    "version": 3
   },
   "file_extension": ".py",
   "mimetype": "text/x-python",
   "name": "python",
   "nbconvert_exporter": "python",
   "pygments_lexer": "ipython3",
   "version": "3.13.3"
  }
 },
 "nbformat": 4,
 "nbformat_minor": 5
}
