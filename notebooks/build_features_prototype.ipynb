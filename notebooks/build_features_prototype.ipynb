{
 "cells": [
  {
   "cell_type": "markdown",
   "id": "d2eb8298",
   "metadata": {},
   "source": [
    "## Preprocessing Data"
   ]
  },
  {
   "cell_type": "markdown",
   "id": "a35cd7a3",
   "metadata": {},
   "source": [
    "In the following steps, the raw data was preprocessed for various regression models. To avoid influencing model performance, only model-independent preprocessing steps were applied."
   ]
  },
  {
   "cell_type": "markdown",
   "id": "2eacdf36",
   "metadata": {},
   "source": [
    "### Setup"
   ]
  },
  {
   "cell_type": "code",
   "execution_count": 137,
   "id": "a4df7fe0",
   "metadata": {},
   "outputs": [],
   "source": [
    "import pandas as pd\n",
    "import numpy as np\n",
    "import re\n",
    "from sklearn.linear_model import LinearRegression       \n",
    "from sklearn.model_selection import train_test_split\n",
    "import seaborn as sns\n",
    "import matplotlib.pyplot as plt\n",
    "from sklearn.preprocessing import StandardScaler\n",
    "from sklearn.model_selection import cross_val_score"
   ]
  },
  {
   "cell_type": "markdown",
   "id": "2b4277e8",
   "metadata": {},
   "source": [
    "### Import Data"
   ]
  },
  {
   "cell_type": "code",
   "execution_count": 138,
   "id": "868300f7",
   "metadata": {},
   "outputs": [
    {
     "data": {
      "text/html": [
       "<div>\n",
       "<style scoped>\n",
       "    .dataframe tbody tr th:only-of-type {\n",
       "        vertical-align: middle;\n",
       "    }\n",
       "\n",
       "    .dataframe tbody tr th {\n",
       "        vertical-align: top;\n",
       "    }\n",
       "\n",
       "    .dataframe thead th {\n",
       "        text-align: right;\n",
       "    }\n",
       "</style>\n",
       "<table border=\"1\" class=\"dataframe\">\n",
       "  <thead>\n",
       "    <tr style=\"text-align: right;\">\n",
       "      <th></th>\n",
       "      <th>product</th>\n",
       "      <th>isoelectric_point</th>\n",
       "      <th>protein_format</th>\n",
       "      <th>molecular_weight_da</th>\n",
       "      <th>formulation_title</th>\n",
       "      <th>composition</th>\n",
       "      <th>product_conc_mg_ml</th>\n",
       "      <th>tm_c</th>\n",
       "    </tr>\n",
       "  </thead>\n",
       "  <tbody>\n",
       "    <tr>\n",
       "      <th>0</th>\n",
       "      <td>MAB5410990</td>\n",
       "      <td>6.162</td>\n",
       "      <td>IGG3</td>\n",
       "      <td>391603.56</td>\n",
       "      <td>F01</td>\n",
       "      <td>15 mM Succinate + 67.5 mM L-Lysine + 67.5 mM KCl + 0.4 mg/mL PS50, pH 4.5</td>\n",
       "      <td>172.8</td>\n",
       "      <td>139.411938</td>\n",
       "    </tr>\n",
       "    <tr>\n",
       "      <th>1</th>\n",
       "      <td>MAB5410990</td>\n",
       "      <td>6.162</td>\n",
       "      <td>IGG3</td>\n",
       "      <td>391603.56</td>\n",
       "      <td>F02</td>\n",
       "      <td>15 mM Succinate + 135 mM L-Lysine + 0.4 mg/mL PS50, pH 4.5</td>\n",
       "      <td>172.8</td>\n",
       "      <td>138.958645</td>\n",
       "    </tr>\n",
       "    <tr>\n",
       "      <th>2</th>\n",
       "      <td>MAB5410990</td>\n",
       "      <td>6.162</td>\n",
       "      <td>IGG3</td>\n",
       "      <td>391603.56</td>\n",
       "      <td>F03</td>\n",
       "      <td>15 mM Succinate + 67.5 mM L-Lysine + 135 mM Mannitol + 0.4 mg/mL PS50, pH 4.5</td>\n",
       "      <td>172.8</td>\n",
       "      <td>143.647805</td>\n",
       "    </tr>\n",
       "    <tr>\n",
       "      <th>3</th>\n",
       "      <td>MAB5410990</td>\n",
       "      <td>6.162</td>\n",
       "      <td>IGG3</td>\n",
       "      <td>391603.56</td>\n",
       "      <td>F04</td>\n",
       "      <td>15 mM Succinate + 135 mM KCl + 0.4 mg/mL PS50, pH 4.5</td>\n",
       "      <td>172.8</td>\n",
       "      <td>140.801897</td>\n",
       "    </tr>\n",
       "    <tr>\n",
       "      <th>4</th>\n",
       "      <td>MAB5410990</td>\n",
       "      <td>6.162</td>\n",
       "      <td>IGG3</td>\n",
       "      <td>391603.56</td>\n",
       "      <td>F05</td>\n",
       "      <td>15 mM Succinate + 270 mM Mannitol + 0.4 mg/mL PS50, pH 4.5</td>\n",
       "      <td>172.8</td>\n",
       "      <td>151.632333</td>\n",
       "    </tr>\n",
       "  </tbody>\n",
       "</table>\n",
       "</div>"
      ],
      "text/plain": [
       "      product  isoelectric_point protein_format  molecular_weight_da  \\\n",
       "0  MAB5410990              6.162           IGG3            391603.56   \n",
       "1  MAB5410990              6.162           IGG3            391603.56   \n",
       "2  MAB5410990              6.162           IGG3            391603.56   \n",
       "3  MAB5410990              6.162           IGG3            391603.56   \n",
       "4  MAB5410990              6.162           IGG3            391603.56   \n",
       "\n",
       "  formulation_title  \\\n",
       "0               F01   \n",
       "1               F02   \n",
       "2               F03   \n",
       "3               F04   \n",
       "4               F05   \n",
       "\n",
       "                                                                     composition  \\\n",
       "0      15 mM Succinate + 67.5 mM L-Lysine + 67.5 mM KCl + 0.4 mg/mL PS50, pH 4.5   \n",
       "1                     15 mM Succinate + 135 mM L-Lysine + 0.4 mg/mL PS50, pH 4.5   \n",
       "2  15 mM Succinate + 67.5 mM L-Lysine + 135 mM Mannitol + 0.4 mg/mL PS50, pH 4.5   \n",
       "3                          15 mM Succinate + 135 mM KCl + 0.4 mg/mL PS50, pH 4.5   \n",
       "4                     15 mM Succinate + 270 mM Mannitol + 0.4 mg/mL PS50, pH 4.5   \n",
       "\n",
       "   product_conc_mg_ml        tm_c  \n",
       "0               172.8  139.411938  \n",
       "1               172.8  138.958645  \n",
       "2               172.8  143.647805  \n",
       "3               172.8  140.801897  \n",
       "4               172.8  151.632333  "
      ]
     },
     "execution_count": 138,
     "metadata": {},
     "output_type": "execute_result"
    }
   ],
   "source": [
    "# im port the CSV file data\\raw_data.csv\n",
    "df = pd.read_csv('../data/raw/raw_data.csv')\n",
    "df.head() #Display the first 5 rows of the DataFramed"
   ]
  },
  {
   "cell_type": "code",
   "execution_count": 139,
   "id": "920eb42d",
   "metadata": {},
   "outputs": [
    {
     "name": "stdout",
     "output_type": "stream",
     "text": [
      "<class 'pandas.core.frame.DataFrame'>\n",
      "RangeIndex: 1210 entries, 0 to 1209\n",
      "Data columns (total 8 columns):\n",
      " #   Column               Non-Null Count  Dtype  \n",
      "---  ------               --------------  -----  \n",
      " 0   product              1210 non-null   object \n",
      " 1   isoelectric_point    1151 non-null   float64\n",
      " 2   protein_format       1210 non-null   object \n",
      " 3   molecular_weight_da  1210 non-null   float64\n",
      " 4   formulation_title    1210 non-null   object \n",
      " 5   composition          1210 non-null   object \n",
      " 6   product_conc_mg_ml   1210 non-null   float64\n",
      " 7   tm_c                 1210 non-null   float64\n",
      "dtypes: float64(4), object(4)\n",
      "memory usage: 75.8+ KB\n"
     ]
    }
   ],
   "source": [
    "df.info()  # Display the DataFrame information to check the data types and non-null counts"
   ]
  },
  {
   "cell_type": "markdown",
   "id": "7890a19a",
   "metadata": {},
   "source": [
    "### Data Corrections"
   ]
  },
  {
   "cell_type": "code",
   "execution_count": 140,
   "id": "7ae8597b",
   "metadata": {},
   "outputs": [],
   "source": [
    "# For a better overview data set is reduced to the most interessting variables we want to examine. Therefore id columns are dropped.\n",
    "df = df.drop(columns=['product', 'formulation_title'])"
   ]
  },
  {
   "cell_type": "code",
   "execution_count": 141,
   "id": "1e68558e",
   "metadata": {},
   "outputs": [],
   "source": [
    "# change data type in order to make pandas functions more efficient\n",
    "df['protein_format'] = pd.Categorical(df['protein_format'])"
   ]
  },
  {
   "cell_type": "code",
   "execution_count": 142,
   "id": "06de3981",
   "metadata": {},
   "outputs": [],
   "source": [
    "# Eliminate spacesin all column names\n",
    "df.columns = df.columns.str.replace(' ', '_')   \n",
    "# Make sure column names are lower case a\n",
    "df.columns = df.columns.str.lower()"
   ]
  },
  {
   "cell_type": "markdown",
   "id": "573dc918",
   "metadata": {},
   "source": [
    "### Preprocessing String Data into Numerical Features"
   ]
  },
  {
   "cell_type": "code",
   "execution_count": 143,
   "id": "a1eab0ce",
   "metadata": {},
   "outputs": [],
   "source": [
    "#Create new column ph\n",
    "df['ph'] = df['composition'].str.split(',').str[-1].str.extract(r'(\\d+)').astype(float)"
   ]
  },
  {
   "cell_type": "code",
   "execution_count": 144,
   "id": "2d029885",
   "metadata": {},
   "outputs": [],
   "source": [
    "#Create new column Excipients\n",
    "df['composition_without_ph'] = df['composition'].str.split(',').str[0]\n",
    "df.drop('composition', axis=1, inplace=True)"
   ]
  },
  {
   "cell_type": "code",
   "execution_count": 145,
   "id": "f275c5b7",
   "metadata": {},
   "outputs": [
    {
     "name": "stdout",
     "output_type": "stream",
     "text": [
      "['Mannitol', 'Succinate', 'Fructose', 'Citrate', 'KCl', 'PS50', 'PS80', 'L-Lysine']\n"
     ]
    }
   ],
   "source": [
    "# Create a list to hold unique excipients \n",
    "excipients = []\n",
    "\n",
    "# For every value in the column 'composition_without_ph', split the string by '+' and strip whitespace and put them into a list\n",
    "for composition_without_ph in df['composition_without_ph']:\n",
    "    list_conc_excipient = [c.strip() for c in composition_without_ph.split('+')] \n",
    "    # For every value in the list, split the string by ' ' and take the last part as the excipient name\n",
    "    for conc_excipient in list_conc_excipient:\n",
    "        parts = conc_excipient.split()\n",
    "        if parts:  # Ignore empty strings\n",
    "            excipients.append(parts[-1])\n",
    "\n",
    "unique_excipients = list(set(excipients))  # Get unique excipients\n",
    "print(unique_excipients)"
   ]
  },
  {
   "cell_type": "code",
   "execution_count": 146,
   "id": "36ad2712",
   "metadata": {},
   "outputs": [],
   "source": [
    "# Function to extract the concentration of a specific excipient from a string\n",
    "def extract_value(excipient_str,excipient):\n",
    "    # Suche nach dem KCl-Teil in der Zeichenkette\n",
    "    list_conc_excipient = [c.strip() for c in excipient_str.split('+')]\n",
    "    for conc_excipient in list_conc_excipient:\n",
    "        if excipient in conc_excipient:\n",
    "            # Extrahiere den numerischen Wert\n",
    "            match = re.search(r'(\\d+(\\.\\d+)?)', conc_excipient)\n",
    "            if match:\n",
    "                return float(match.group(1))  \n",
    "    return 0  # Wenn kein Wert gefunden wurde, None zurückgeben"
   ]
  },
  {
   "cell_type": "code",
   "execution_count": 147,
   "id": "00a4ae40",
   "metadata": {},
   "outputs": [
    {
     "data": {
      "text/html": [
       "<div>\n",
       "<style scoped>\n",
       "    .dataframe tbody tr th:only-of-type {\n",
       "        vertical-align: middle;\n",
       "    }\n",
       "\n",
       "    .dataframe tbody tr th {\n",
       "        vertical-align: top;\n",
       "    }\n",
       "\n",
       "    .dataframe thead th {\n",
       "        text-align: right;\n",
       "    }\n",
       "</style>\n",
       "<table border=\"1\" class=\"dataframe\">\n",
       "  <thead>\n",
       "    <tr style=\"text-align: right;\">\n",
       "      <th></th>\n",
       "      <th>isoelectric_point</th>\n",
       "      <th>protein_format</th>\n",
       "      <th>molecular_weight_da</th>\n",
       "      <th>product_conc_mg_ml</th>\n",
       "      <th>tm_c</th>\n",
       "      <th>ph</th>\n",
       "      <th>mannitol_conc</th>\n",
       "      <th>succinate_conc</th>\n",
       "      <th>fructose_conc</th>\n",
       "      <th>citrate_conc</th>\n",
       "      <th>kcl_conc</th>\n",
       "      <th>ps50_conc</th>\n",
       "      <th>ps80_conc</th>\n",
       "      <th>l-lysine_conc</th>\n",
       "    </tr>\n",
       "  </thead>\n",
       "  <tbody>\n",
       "    <tr>\n",
       "      <th>0</th>\n",
       "      <td>6.162</td>\n",
       "      <td>IGG3</td>\n",
       "      <td>391603.56</td>\n",
       "      <td>172.8</td>\n",
       "      <td>139.411938</td>\n",
       "      <td>4.0</td>\n",
       "      <td>0.0</td>\n",
       "      <td>15.0</td>\n",
       "      <td>0.0</td>\n",
       "      <td>0.0</td>\n",
       "      <td>67.5</td>\n",
       "      <td>0.4</td>\n",
       "      <td>0.0</td>\n",
       "      <td>67.5</td>\n",
       "    </tr>\n",
       "    <tr>\n",
       "      <th>1</th>\n",
       "      <td>6.162</td>\n",
       "      <td>IGG3</td>\n",
       "      <td>391603.56</td>\n",
       "      <td>172.8</td>\n",
       "      <td>138.958645</td>\n",
       "      <td>4.0</td>\n",
       "      <td>0.0</td>\n",
       "      <td>15.0</td>\n",
       "      <td>0.0</td>\n",
       "      <td>0.0</td>\n",
       "      <td>0.0</td>\n",
       "      <td>0.4</td>\n",
       "      <td>0.0</td>\n",
       "      <td>135.0</td>\n",
       "    </tr>\n",
       "    <tr>\n",
       "      <th>2</th>\n",
       "      <td>6.162</td>\n",
       "      <td>IGG3</td>\n",
       "      <td>391603.56</td>\n",
       "      <td>172.8</td>\n",
       "      <td>143.647805</td>\n",
       "      <td>4.0</td>\n",
       "      <td>135.0</td>\n",
       "      <td>15.0</td>\n",
       "      <td>0.0</td>\n",
       "      <td>0.0</td>\n",
       "      <td>0.0</td>\n",
       "      <td>0.4</td>\n",
       "      <td>0.0</td>\n",
       "      <td>67.5</td>\n",
       "    </tr>\n",
       "    <tr>\n",
       "      <th>3</th>\n",
       "      <td>6.162</td>\n",
       "      <td>IGG3</td>\n",
       "      <td>391603.56</td>\n",
       "      <td>172.8</td>\n",
       "      <td>140.801897</td>\n",
       "      <td>4.0</td>\n",
       "      <td>0.0</td>\n",
       "      <td>15.0</td>\n",
       "      <td>0.0</td>\n",
       "      <td>0.0</td>\n",
       "      <td>135.0</td>\n",
       "      <td>0.4</td>\n",
       "      <td>0.0</td>\n",
       "      <td>0.0</td>\n",
       "    </tr>\n",
       "    <tr>\n",
       "      <th>4</th>\n",
       "      <td>6.162</td>\n",
       "      <td>IGG3</td>\n",
       "      <td>391603.56</td>\n",
       "      <td>172.8</td>\n",
       "      <td>151.632333</td>\n",
       "      <td>4.0</td>\n",
       "      <td>270.0</td>\n",
       "      <td>15.0</td>\n",
       "      <td>0.0</td>\n",
       "      <td>0.0</td>\n",
       "      <td>0.0</td>\n",
       "      <td>0.4</td>\n",
       "      <td>0.0</td>\n",
       "      <td>0.0</td>\n",
       "    </tr>\n",
       "  </tbody>\n",
       "</table>\n",
       "</div>"
      ],
      "text/plain": [
       "   isoelectric_point protein_format  molecular_weight_da  product_conc_mg_ml  \\\n",
       "0              6.162           IGG3            391603.56               172.8   \n",
       "1              6.162           IGG3            391603.56               172.8   \n",
       "2              6.162           IGG3            391603.56               172.8   \n",
       "3              6.162           IGG3            391603.56               172.8   \n",
       "4              6.162           IGG3            391603.56               172.8   \n",
       "\n",
       "         tm_c   ph  mannitol_conc  succinate_conc  fructose_conc  \\\n",
       "0  139.411938  4.0            0.0            15.0            0.0   \n",
       "1  138.958645  4.0            0.0            15.0            0.0   \n",
       "2  143.647805  4.0          135.0            15.0            0.0   \n",
       "3  140.801897  4.0            0.0            15.0            0.0   \n",
       "4  151.632333  4.0          270.0            15.0            0.0   \n",
       "\n",
       "   citrate_conc  kcl_conc  ps50_conc  ps80_conc  l-lysine_conc  \n",
       "0           0.0      67.5        0.4        0.0           67.5  \n",
       "1           0.0       0.0        0.4        0.0          135.0  \n",
       "2           0.0       0.0        0.4        0.0           67.5  \n",
       "3           0.0     135.0        0.4        0.0            0.0  \n",
       "4           0.0       0.0        0.4        0.0            0.0  "
      ]
     },
     "execution_count": 147,
     "metadata": {},
     "output_type": "execute_result"
    }
   ],
   "source": [
    "# Create new columns for each unique excipient and extract their concentrations\n",
    "for excipient in unique_excipients:\n",
    "    new_column_name = excipient + '_conc' \n",
    "    # replace all uppercase letters with lowercase letters in the new column name\n",
    "    new_column_name = new_column_name.lower()\n",
    "    # Apply the extract_value function to the 'composition_without_ph' column for each excipient\n",
    "    df[new_column_name] = df['composition_without_ph'].apply(lambda x: extract_value(x, excipient))\n",
    "# Drop the 'composition_without_ph' column as it is no longer needed\n",
    "df.drop('composition_without_ph', axis=1, inplace=True)\n",
    "\n",
    "\n",
    "pd.set_option('display.max_colwidth', None)\n",
    "df.head()  # Display the first 5 rows of the DataFrame with new columns for excipients\n",
    "\n"
   ]
  },
  {
   "cell_type": "markdown",
   "id": "db20a08e",
   "metadata": {},
   "source": [
    "### Missing values handling"
   ]
  },
  {
   "cell_type": "code",
   "execution_count": 148,
   "id": "8723c0ef",
   "metadata": {},
   "outputs": [
    {
     "data": {
      "text/plain": [
       "isoelectric_point      59\n",
       "protein_format          0\n",
       "molecular_weight_da     0\n",
       "product_conc_mg_ml      0\n",
       "tm_c                    0\n",
       "ph                      0\n",
       "mannitol_conc           0\n",
       "succinate_conc          0\n",
       "fructose_conc           0\n",
       "citrate_conc            0\n",
       "kcl_conc                0\n",
       "ps50_conc               0\n",
       "ps80_conc               0\n",
       "l-lysine_conc           0\n",
       "dtype: int64"
      ]
     },
     "execution_count": 148,
     "metadata": {},
     "output_type": "execute_result"
    }
   ],
   "source": [
    "# Find all missing values in the DataFrame\n",
    "missing_values = df.isnull().sum()\n",
    "# Display the missing values\n",
    "missing_values"
   ]
  },
  {
   "cell_type": "code",
   "execution_count": 149,
   "id": "9aff1db0",
   "metadata": {},
   "outputs": [
    {
     "name": "stdout",
     "output_type": "stream",
     "text": [
      "Trainingsdaten: 1151 Zeilen\n",
      "Zu prognostizierende Zeilen: 59\n"
     ]
    },
    {
     "data": {
      "text/plain": [
       "isoelectric_point      0\n",
       "protein_format         0\n",
       "molecular_weight_da    0\n",
       "product_conc_mg_ml     0\n",
       "tm_c                   0\n",
       "ph                     0\n",
       "mannitol_conc          0\n",
       "succinate_conc         0\n",
       "fructose_conc          0\n",
       "citrate_conc           0\n",
       "kcl_conc               0\n",
       "ps50_conc              0\n",
       "ps80_conc              0\n",
       "l-lysine_conc          0\n",
       "dtype: int64"
      ]
     },
     "execution_count": 149,
     "metadata": {},
     "output_type": "execute_result"
    }
   ],
   "source": [
    "#Error handling for missing values in column 'isoelectric_point' by linear regression \n",
    "train_df = df[df['isoelectric_point'].notna()]\n",
    "X_train = train_df[['molecular_weight_da']]\n",
    "y_train = train_df['isoelectric_point']\n",
    "\n",
    "print(f\"Trainingsdaten: {X_train.shape[0]} Zeilen\")  # Debug-Ausgabe\n",
    "\n",
    "# Modell trainieren\n",
    "model = LinearRegression()\n",
    "model.fit(X_train, y_train)\n",
    "\n",
    "# Maske für fehlende isoelectric_point Werte\n",
    "mask_missing = df['isoelectric_point'].isna()\n",
    "\n",
    "print(f\"Zu prognostizierende Zeilen: {mask_missing.sum()}\")  # Debug-Ausgabe\n",
    "\n",
    "# Nur vorhersagen, wenn es auch Daten gibt\n",
    "if mask_missing.sum() > 0:\n",
    "    df.loc[mask_missing, 'isoelectric_point'] = model.predict(df.loc[mask_missing, ['molecular_weight_da']])\n",
    "else:\n",
    "    print(\"Keine Zeilen zum Vorhersagen – alle Werte vorhanden.\")\n",
    "\n",
    "# Find all missing values in the DataFrame\n",
    "missing_values = df.isnull().sum()\n",
    "# Display the missing values\n",
    "missing_values\n"
   ]
  },
  {
   "cell_type": "markdown",
   "id": "12a82cce",
   "metadata": {},
   "source": [
    "### Encoding Categorical Variables"
   ]
  },
  {
   "cell_type": "code",
   "execution_count": 150,
   "id": "2a53c8c5",
   "metadata": {},
   "outputs": [],
   "source": [
    "# Create dummy variables (dummy columns are uint8 by default)\n",
    "df = pd.get_dummies(df, columns=['protein_format'], drop_first=True)\n",
    "\n",
    "# Identify only the dummy columns\n",
    "dummy_cols = [col for col in df.columns if col.startswith('protein_format_')]\n",
    "\n",
    "# Convert only those dummy columns to int type\n",
    "df[dummy_cols] = df[dummy_cols].astype(int)\n",
    "\n",
    "# Make sure column names are lower case a\n",
    "df.columns = df.columns.str.lower()\n"
   ]
  },
  {
   "cell_type": "code",
   "execution_count": 151,
   "id": "03a7be79",
   "metadata": {},
   "outputs": [
    {
     "name": "stdout",
     "output_type": "stream",
     "text": [
      "<class 'pandas.core.frame.DataFrame'>\n",
      "RangeIndex: 1210 entries, 0 to 1209\n",
      "Data columns (total 17 columns):\n",
      " #   Column                    Non-Null Count  Dtype  \n",
      "---  ------                    --------------  -----  \n",
      " 0   isoelectric_point         1210 non-null   float64\n",
      " 1   molecular_weight_da       1210 non-null   float64\n",
      " 2   product_conc_mg_ml        1210 non-null   float64\n",
      " 3   tm_c                      1210 non-null   float64\n",
      " 4   ph                        1210 non-null   float64\n",
      " 5   mannitol_conc             1210 non-null   float64\n",
      " 6   succinate_conc            1210 non-null   float64\n",
      " 7   fructose_conc             1210 non-null   float64\n",
      " 8   citrate_conc              1210 non-null   float64\n",
      " 9   kcl_conc                  1210 non-null   float64\n",
      " 10  ps50_conc                 1210 non-null   float64\n",
      " 11  ps80_conc                 1210 non-null   float64\n",
      " 12  l-lysine_conc             1210 non-null   float64\n",
      " 13  protein_format_igg3       1210 non-null   int64  \n",
      " 14  protein_format_igg4       1210 non-null   int64  \n",
      " 15  protein_format_knob_hole  1210 non-null   int64  \n",
      " 16  protein_format_nano_mb    1210 non-null   int64  \n",
      "dtypes: float64(13), int64(4)\n",
      "memory usage: 160.8 KB\n"
     ]
    }
   ],
   "source": [
    "df.info()  # Display the DataFrame information to check the data types and non-null counts"
   ]
  },
  {
   "cell_type": "markdown",
   "id": "7185afa2",
   "metadata": {},
   "source": [
    "### Export Preprocessed Data"
   ]
  },
  {
   "cell_type": "code",
   "execution_count": 152,
   "id": "1eeb7a91",
   "metadata": {},
   "outputs": [],
   "source": [
    "#export the DataFrame to a new CSV file and overwrite the existing one \n",
    "df.to_csv('../data/processed/preprocessed_data.csv', index=False)"
   ]
  }
 ],
 "metadata": {
  "kernelspec": {
   "display_name": "project_env",
   "language": "python",
   "name": "python3"
  },
  "language_info": {
   "codemirror_mode": {
    "name": "ipython",
    "version": 3
   },
   "file_extension": ".py",
   "mimetype": "text/x-python",
   "name": "python",
   "nbconvert_exporter": "python",
   "pygments_lexer": "ipython3",
   "version": "3.13.3"
  }
 },
 "nbformat": 4,
 "nbformat_minor": 5
}
