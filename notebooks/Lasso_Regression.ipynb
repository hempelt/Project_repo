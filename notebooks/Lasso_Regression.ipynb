{
 "cells": [
  {
   "cell_type": "code",
   "execution_count": null,
   "id": "cff9cc2a",
   "metadata": {},
   "outputs": [
    {
     "name": "stdout",
     "output_type": "stream",
     "text": [
      "Average RMSE: 5.45 ± 0.14\n",
      "Average R²: 0.79 ± 0.03\n"
     ]
    },
    {
     "data": {
      "image/png": "[encoded data removed]",
      "text/plain": [
       "<Figure size 600x300 with 1 Axes>"
      ]
     },
     "metadata": {},
     "output_type": "display_data"
    }
   ],
   "source": [
    "import pandas as pd\n",
    "import numpy as np\n",
    "from sklearn.model_selection import cross_validate\n",
    "from sklearn.preprocessing import StandardScaler\n",
    "from sklearn.linear_model import Lasso\n",
    "import matplotlib.pyplot as plt\n",
    "\n",
    "# Load dataset\n",
    "df = pd.read_csv(r'C:\\Users\\hempe\\Studium\\Real_Project\\Project_repo\\data\\processed\\df_train_processed.csv')\n",
    "\n",
    "# Define features and target\n",
    "X = df.drop(columns=['tm_c'])\n",
    "y = df['tm_c']   \n",
    "\n",
    "# --- Feature Scaling\n",
    "scaler = StandardScaler()\n",
    "X_scaled = scaler.fit_transform(X)\n",
    "\n",
    "# Initialize model\n",
    "model = Lasso(alpha=0.1) \n",
    "\n",
    "# Perform 5-fold cross-validation\n",
    "cv = cross_validate(model, X_scaled, y, cv=5,scoring=('r2', 'neg_root_mean_squared_error'))\n",
    " \n",
    "# Convert scores to positive RMSE\n",
    "rmse_scores = -cv['test_neg_root_mean_squared_error']\n",
    "r2_scores = cv['test_r2']\n",
    "\n",
    "# Print mean and std\n",
    "print(f\"Average RMSE: {rmse_scores.mean():.2f} ± {rmse_scores.std():.2f}\")\n",
    "print(f\"Average R²: {r2_scores.mean():.2f} ± {r2_scores.std():.2f}\")\n",
    "\n",
    "# Create DataFrame for plotting\n",
    "rmse_df = pd.DataFrame({\n",
    "    'Fold': range(1, 6),\n",
    "    'RMSE': rmse_scores\n",
    "})\n",
    "\n",
    "# Plot RMSE per fold\n",
    "plt.figure(figsize=(6, 3))\n",
    "plt.bar(rmse_df['Fold'], rmse_df['RMSE'], color='skyblue')\n",
    "plt.xlabel('Fold')\n",
    "plt.ylabel('RMSE')\n",
    "plt.title('RMSE per Cross-Validation Fold')\n",
    "plt.xticks(rmse_df['Fold'])\n",
    "plt.grid(axis='y')\n",
    "plt.tight_layout()\n",
    "plt.show()"
   ]
  }
 ],
 "metadata": {
  "kernelspec": {
   "display_name": "project_env",
   "language": "python",
   "name": "python3"
  },
  "language_info": {
   "codemirror_mode": {
    "name": "ipython",
    "version": 3
   },
   "file_extension": ".py",
   "mimetype": "text/x-python",
   "name": "python",
   "nbconvert_exporter": "python",
   "pygments_lexer": "ipython3",
   "version": "3.13.3"
  }
 },
 "nbformat": 4,
 "nbformat_minor": 5
}
