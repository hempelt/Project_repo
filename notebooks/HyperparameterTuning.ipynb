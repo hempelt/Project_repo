{
 "cells": [
  {
   "cell_type": "code",
   "execution_count": 11,
   "id": "123f311d",
   "metadata": {},
   "outputs": [
    {
     "name": "stdout",
     "output_type": "stream",
     "text": [
      "Fitting 5 folds for each of 36 candidates, totalling 180 fits\n",
      "Best Parameters: {'learning_rate': 0.1, 'max_depth': 4, 'n_estimators': 200, 'subsample': 0.8}\n",
      "Best RMSE (CV): 2.268019512533066\n"
     ]
    }
   ],
   "source": [
    "import pandas as pd\n",
    "from sklearn.model_selection import cross_validate, GridSearchCV\n",
    "from sklearn.ensemble import GradientBoostingRegressor\n",
    "import matplotlib.pyplot as plt\n",
    "\n",
    "# Load dataset\n",
    "df = pd.read_csv(r'C:\\Users\\hempe\\Studium\\Real_Project\\Project_repo\\data\\processed\\df_train_processed.csv')\n",
    "\n",
    "# Define features and target\n",
    "X = df.drop(columns=['tm_c'])\n",
    "y = df['tm_c']   \n",
    "\n",
    "# Initialize model (no feature scaling for Gradient Boosting)\n",
    "model = GradientBoostingRegressor(random_state=42)\n",
    "\n",
    "\n",
    "# Parameter-Raster für Tuning\n",
    "param_grid = {\n",
    "    'n_estimators': [100, 200],\n",
    "    'learning_rate': [0.05, 0.1, 0.2],\n",
    "    'max_depth': [3, 4, 5],\n",
    "    'subsample': [0.8, 1.0]\n",
    "}\n",
    "\n",
    "# GridSearch mit 5-facher Cross-Validation\n",
    "grid_search = GridSearchCV(\n",
    "    estimator=model,\n",
    "    param_grid=param_grid,\n",
    "    scoring='neg_root_mean_squared_error',  # für Regression\n",
    "    cv=5,\n",
    "    n_jobs=-1,\n",
    "    verbose=1\n",
    ")\n",
    "\n",
    "# Führe GridSearchCV direkt auf den gesamten Datensatz aus (CV sorgt für valide Auswertung)\n",
    "grid_search.fit(X, y)\n",
    "\n",
    "# Ergebnisse\n",
    "print(\"Best Parameters:\", grid_search.best_params_)\n",
    "print(\"Best RMSE (CV):\", -grid_search.best_score_)"
   ]
  },
  {
   "cell_type": "code",
   "execution_count": 12,
   "id": "41842b67",
   "metadata": {},
   "outputs": [
    {
     "name": "stdout",
     "output_type": "stream",
     "text": [
      "Average RMSE: 2.27 ± 0.22\n",
      "Average R²: 0.96 ± 0.01\n"
     ]
    },
    {
     "data": {
      "image/png": "[encoded data removed]",
      "text/plain": [
       "<Figure size 600x300 with 1 Axes>"
      ]
     },
     "metadata": {},
     "output_type": "display_data"
    }
   ],
   "source": [
    "# Neues Modell mit besten Parametern\n",
    "optimized_model = GradientBoostingRegressor(learning_rate= 0.1, max_depth= 4, n_estimators= 200, subsample= 0.8, random_state=42)\n",
    "\n",
    "# Perform 5-fold cross-validation\n",
    "cv = cross_validate(optimized_model, X, y, cv=5, scoring=('r2', 'neg_root_mean_squared_error'))\n",
    " \n",
    "# Convert scores to positive RMSE\n",
    "rmse_scores = -cv['test_neg_root_mean_squared_error']\n",
    "r2_scores = cv['test_r2']\n",
    "\n",
    "# Print mean and std\n",
    "print(f\"Average RMSE: {rmse_scores.mean():.2f} ± {rmse_scores.std():.2f}\")\n",
    "print(f\"Average R²: {r2_scores.mean():.2f} ± {r2_scores.std():.2f}\")\n",
    "\n",
    "# Create DataFrame for plotting\n",
    "rmse_df = pd.DataFrame({\n",
    "    'Fold': range(1, 6),\n",
    "    'RMSE': rmse_scores\n",
    "})\n",
    "\n",
    "# Plot RMSE per fold\n",
    "plt.figure(figsize=(6, 3))\n",
    "plt.bar(rmse_df['Fold'], rmse_df['RMSE'], color='skyblue')\n",
    "plt.xlabel('Fold')\n",
    "plt.ylabel('RMSE')\n",
    "plt.title('RMSE per Cross-Validation Fold')\n",
    "plt.xticks(rmse_df['Fold'])\n",
    "plt.grid(axis='y')\n",
    "plt.tight_layout()\n",
    "plt.show()"
   ]
  }
 ],
 "metadata": {
  "kernelspec": {
   "display_name": "project_env",
   "language": "python",
   "name": "python3"
  },
  "language_info": {
   "codemirror_mode": {
    "name": "ipython",
    "version": 3
   },
   "file_extension": ".py",
   "mimetype": "text/x-python",
   "name": "python",
   "nbconvert_exporter": "python",
   "pygments_lexer": "ipython3",
   "version": "3.13.3"
  }
 },
 "nbformat": 4,
 "nbformat_minor": 5
}
