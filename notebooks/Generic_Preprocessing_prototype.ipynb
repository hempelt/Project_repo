{
 "cells": [
  {
   "cell_type": "markdown",
   "id": "d2eb8298",
   "metadata": {},
   "source": [
    "## Preprocessing Data"
   ]
  },
  {
   "cell_type": "markdown",
   "id": "a35cd7a3",
   "metadata": {},
   "source": [
    "In the following steps, the raw data was preprocessed for various regression models. To avoid influencing model performance, only model-independent preprocessing steps were applied."
   ]
  },
  {
   "cell_type": "markdown",
   "id": "2eacdf36",
   "metadata": {},
   "source": [
    "### Setup"
   ]
  },
  {
   "cell_type": "code",
   "execution_count": 1,
   "id": "a4df7fe0",
   "metadata": {},
   "outputs": [],
   "source": [
    "import pandas as pd\n",
    "import numpy as np\n",
    "import re\n",
    "from sklearn.linear_model import LinearRegression       \n",
    "from sklearn.model_selection import train_test_split\n",
    "import seaborn as sns\n",
    "import matplotlib.pyplot as plt\n",
    "from sklearn.preprocessing import StandardScaler\n",
    "from sklearn.model_selection import cross_val_score"
   ]
  },
  {
   "cell_type": "markdown",
   "id": "2b4277e8",
   "metadata": {},
   "source": [
    "### Import Data"
   ]
  },
  {
   "cell_type": "code",
   "execution_count": 2,
   "id": "868300f7",
   "metadata": {},
   "outputs": [
    {
     "data": {
      "text/html": [
       "<div>\n",
       "<style scoped>\n",
       "    .dataframe tbody tr th:only-of-type {\n",
       "        vertical-align: middle;\n",
       "    }\n",
       "\n",
       "    .dataframe tbody tr th {\n",
       "        vertical-align: top;\n",
       "    }\n",
       "\n",
       "    .dataframe thead th {\n",
       "        text-align: right;\n",
       "    }\n",
       "</style>\n",
       "<table border=\"1\" class=\"dataframe\">\n",
       "  <thead>\n",
       "    <tr style=\"text-align: right;\">\n",
       "      <th></th>\n",
       "      <th>product</th>\n",
       "      <th>isoelectric_point</th>\n",
       "      <th>protein_format</th>\n",
       "      <th>molecular_weight_da</th>\n",
       "      <th>formulation_title</th>\n",
       "      <th>product_conc_mg_ml</th>\n",
       "      <th>tm_c</th>\n",
       "      <th>ph</th>\n",
       "      <th>kcl_conc</th>\n",
       "      <th>fructose_conc</th>\n",
       "      <th>succinate_conc</th>\n",
       "      <th>l-lysine_conc</th>\n",
       "      <th>mannitol_conc</th>\n",
       "      <th>ps50_conc</th>\n",
       "      <th>ps80_conc</th>\n",
       "      <th>citrate_conc</th>\n",
       "    </tr>\n",
       "  </thead>\n",
       "  <tbody>\n",
       "    <tr>\n",
       "      <th>0</th>\n",
       "      <td>MAB5410990</td>\n",
       "      <td>6.162</td>\n",
       "      <td>IGG3</td>\n",
       "      <td>391603.56</td>\n",
       "      <td>F01</td>\n",
       "      <td>172.8</td>\n",
       "      <td>139.411938</td>\n",
       "      <td>4.0</td>\n",
       "      <td>67.5</td>\n",
       "      <td>0.0</td>\n",
       "      <td>15.0</td>\n",
       "      <td>67.5</td>\n",
       "      <td>0.0</td>\n",
       "      <td>0.4</td>\n",
       "      <td>0.0</td>\n",
       "      <td>0.0</td>\n",
       "    </tr>\n",
       "    <tr>\n",
       "      <th>1</th>\n",
       "      <td>MAB5410990</td>\n",
       "      <td>6.162</td>\n",
       "      <td>IGG3</td>\n",
       "      <td>391603.56</td>\n",
       "      <td>F02</td>\n",
       "      <td>172.8</td>\n",
       "      <td>138.958645</td>\n",
       "      <td>4.0</td>\n",
       "      <td>0.0</td>\n",
       "      <td>0.0</td>\n",
       "      <td>15.0</td>\n",
       "      <td>135.0</td>\n",
       "      <td>0.0</td>\n",
       "      <td>0.4</td>\n",
       "      <td>0.0</td>\n",
       "      <td>0.0</td>\n",
       "    </tr>\n",
       "    <tr>\n",
       "      <th>2</th>\n",
       "      <td>MAB5410990</td>\n",
       "      <td>6.162</td>\n",
       "      <td>IGG3</td>\n",
       "      <td>391603.56</td>\n",
       "      <td>F03</td>\n",
       "      <td>172.8</td>\n",
       "      <td>143.647805</td>\n",
       "      <td>4.0</td>\n",
       "      <td>0.0</td>\n",
       "      <td>0.0</td>\n",
       "      <td>15.0</td>\n",
       "      <td>67.5</td>\n",
       "      <td>135.0</td>\n",
       "      <td>0.4</td>\n",
       "      <td>0.0</td>\n",
       "      <td>0.0</td>\n",
       "    </tr>\n",
       "    <tr>\n",
       "      <th>3</th>\n",
       "      <td>MAB5410990</td>\n",
       "      <td>6.162</td>\n",
       "      <td>IGG3</td>\n",
       "      <td>391603.56</td>\n",
       "      <td>F04</td>\n",
       "      <td>172.8</td>\n",
       "      <td>140.801897</td>\n",
       "      <td>4.0</td>\n",
       "      <td>135.0</td>\n",
       "      <td>0.0</td>\n",
       "      <td>15.0</td>\n",
       "      <td>0.0</td>\n",
       "      <td>0.0</td>\n",
       "      <td>0.4</td>\n",
       "      <td>0.0</td>\n",
       "      <td>0.0</td>\n",
       "    </tr>\n",
       "    <tr>\n",
       "      <th>4</th>\n",
       "      <td>MAB5410990</td>\n",
       "      <td>6.162</td>\n",
       "      <td>IGG3</td>\n",
       "      <td>391603.56</td>\n",
       "      <td>F05</td>\n",
       "      <td>172.8</td>\n",
       "      <td>151.632333</td>\n",
       "      <td>4.0</td>\n",
       "      <td>0.0</td>\n",
       "      <td>0.0</td>\n",
       "      <td>15.0</td>\n",
       "      <td>0.0</td>\n",
       "      <td>270.0</td>\n",
       "      <td>0.4</td>\n",
       "      <td>0.0</td>\n",
       "      <td>0.0</td>\n",
       "    </tr>\n",
       "  </tbody>\n",
       "</table>\n",
       "</div>"
      ],
      "text/plain": [
       "      product  isoelectric_point protein_format  molecular_weight_da  \\\n",
       "0  MAB5410990              6.162           IGG3            391603.56   \n",
       "1  MAB5410990              6.162           IGG3            391603.56   \n",
       "2  MAB5410990              6.162           IGG3            391603.56   \n",
       "3  MAB5410990              6.162           IGG3            391603.56   \n",
       "4  MAB5410990              6.162           IGG3            391603.56   \n",
       "\n",
       "  formulation_title  product_conc_mg_ml        tm_c   ph  kcl_conc  \\\n",
       "0               F01               172.8  139.411938  4.0      67.5   \n",
       "1               F02               172.8  138.958645  4.0       0.0   \n",
       "2               F03               172.8  143.647805  4.0       0.0   \n",
       "3               F04               172.8  140.801897  4.0     135.0   \n",
       "4               F05               172.8  151.632333  4.0       0.0   \n",
       "\n",
       "   fructose_conc  succinate_conc  l-lysine_conc  mannitol_conc  ps50_conc  \\\n",
       "0            0.0            15.0           67.5            0.0        0.4   \n",
       "1            0.0            15.0          135.0            0.0        0.4   \n",
       "2            0.0            15.0           67.5          135.0        0.4   \n",
       "3            0.0            15.0            0.0            0.0        0.4   \n",
       "4            0.0            15.0            0.0          270.0        0.4   \n",
       "\n",
       "   ps80_conc  citrate_conc  \n",
       "0        0.0           0.0  \n",
       "1        0.0           0.0  \n",
       "2        0.0           0.0  \n",
       "3        0.0           0.0  \n",
       "4        0.0           0.0  "
      ]
     },
     "execution_count": 2,
     "metadata": {},
     "output_type": "execute_result"
    }
   ],
   "source": [
    "# import the CSV file data\\raw_data.csv\n",
    "df = pd.read_csv(r'C:\\Users\\hempe\\Studium\\Real_Project\\Project_repo\\data\\raw\\raw_data_all_features.csv')\n",
    "df.head() #Display the first 5 rows of the DataFrame"
   ]
  },
  {
   "cell_type": "code",
   "execution_count": 3,
   "id": "920eb42d",
   "metadata": {},
   "outputs": [
    {
     "name": "stdout",
     "output_type": "stream",
     "text": [
      "<class 'pandas.core.frame.DataFrame'>\n",
      "RangeIndex: 1210 entries, 0 to 1209\n",
      "Data columns (total 16 columns):\n",
      " #   Column               Non-Null Count  Dtype  \n",
      "---  ------               --------------  -----  \n",
      " 0   product              1210 non-null   object \n",
      " 1   isoelectric_point    1151 non-null   float64\n",
      " 2   protein_format       1210 non-null   object \n",
      " 3   molecular_weight_da  1210 non-null   float64\n",
      " 4   formulation_title    1210 non-null   object \n",
      " 5   product_conc_mg_ml   1210 non-null   float64\n",
      " 6   tm_c                 1210 non-null   float64\n",
      " 7   ph                   1210 non-null   float64\n",
      " 8   kcl_conc             1210 non-null   float64\n",
      " 9   fructose_conc        1210 non-null   float64\n",
      " 10  succinate_conc       1210 non-null   float64\n",
      " 11  l-lysine_conc        1210 non-null   float64\n",
      " 12  mannitol_conc        1210 non-null   float64\n",
      " 13  ps50_conc            1210 non-null   float64\n",
      " 14  ps80_conc            1210 non-null   float64\n",
      " 15  citrate_conc         1210 non-null   float64\n",
      "dtypes: float64(13), object(3)\n",
      "memory usage: 151.4+ KB\n"
     ]
    }
   ],
   "source": [
    "df.info()  # Display the DataFrame information to check the data types and non-null counts"
   ]
  },
  {
   "cell_type": "markdown",
   "id": "7890a19a",
   "metadata": {},
   "source": [
    "### Data Corrections"
   ]
  },
  {
   "cell_type": "code",
   "execution_count": 4,
   "id": "7ae8597b",
   "metadata": {},
   "outputs": [],
   "source": [
    "# For a better overview data set is reduced to the most interessting variables we want to examine. Therefore id columns are dropped.\n",
    "df = df.drop(columns=['product', 'formulation_title'])"
   ]
  },
  {
   "cell_type": "code",
   "execution_count": 5,
   "id": "1e68558e",
   "metadata": {},
   "outputs": [],
   "source": [
    "# change data type in order to make pandas functions more efficient\n",
    "df['protein_format'] = pd.Categorical(df['protein_format'])"
   ]
  },
  {
   "cell_type": "code",
   "execution_count": 6,
   "id": "06de3981",
   "metadata": {},
   "outputs": [],
   "source": [
    "# Eliminate spacesin all column names\n",
    "df.columns = df.columns.str.replace(' ', '_')   \n",
    "# Make sure column names are lower case a\n",
    "df.columns = df.columns.str.lower()"
   ]
  },
  {
   "cell_type": "code",
   "execution_count": 7,
   "id": "4c466cea",
   "metadata": {},
   "outputs": [
    {
     "name": "stdout",
     "output_type": "stream",
     "text": [
      "<class 'pandas.core.frame.DataFrame'>\n",
      "RangeIndex: 1210 entries, 0 to 1209\n",
      "Data columns (total 14 columns):\n",
      " #   Column               Non-Null Count  Dtype   \n",
      "---  ------               --------------  -----   \n",
      " 0   isoelectric_point    1151 non-null   float64 \n",
      " 1   protein_format       1210 non-null   category\n",
      " 2   molecular_weight_da  1210 non-null   float64 \n",
      " 3   product_conc_mg_ml   1210 non-null   float64 \n",
      " 4   tm_c                 1210 non-null   float64 \n",
      " 5   ph                   1210 non-null   float64 \n",
      " 6   kcl_conc             1210 non-null   float64 \n",
      " 7   fructose_conc        1210 non-null   float64 \n",
      " 8   succinate_conc       1210 non-null   float64 \n",
      " 9   l-lysine_conc        1210 non-null   float64 \n",
      " 10  mannitol_conc        1210 non-null   float64 \n",
      " 11  ps50_conc            1210 non-null   float64 \n",
      " 12  ps80_conc            1210 non-null   float64 \n",
      " 13  citrate_conc         1210 non-null   float64 \n",
      "dtypes: category(1), float64(13)\n",
      "memory usage: 124.4 KB\n"
     ]
    }
   ],
   "source": [
    "df.info()  # Display the DataFrame information to check the data types and non-null counts"
   ]
  },
  {
   "cell_type": "markdown",
   "id": "db20a08e",
   "metadata": {},
   "source": [
    "### Missing values handling"
   ]
  },
  {
   "cell_type": "code",
   "execution_count": 8,
   "id": "8723c0ef",
   "metadata": {},
   "outputs": [
    {
     "data": {
      "text/plain": [
       "isoelectric_point      59\n",
       "protein_format          0\n",
       "molecular_weight_da     0\n",
       "product_conc_mg_ml      0\n",
       "tm_c                    0\n",
       "ph                      0\n",
       "kcl_conc                0\n",
       "fructose_conc           0\n",
       "succinate_conc          0\n",
       "l-lysine_conc           0\n",
       "mannitol_conc           0\n",
       "ps50_conc               0\n",
       "ps80_conc               0\n",
       "citrate_conc            0\n",
       "dtype: int64"
      ]
     },
     "execution_count": 8,
     "metadata": {},
     "output_type": "execute_result"
    }
   ],
   "source": [
    "# Find all missing values in the DataFrame\n",
    "missing_values = df.isnull().sum()\n",
    "# Display the missing values\n",
    "missing_values"
   ]
  },
  {
   "cell_type": "code",
   "execution_count": 9,
   "id": "9aff1db0",
   "metadata": {},
   "outputs": [
    {
     "name": "stdout",
     "output_type": "stream",
     "text": [
      "Available data points: 1151 rows\n",
      "Missing values to be filled: 59 rows\n",
      "Missing values were filled using the mean: 6.01\n"
     ]
    }
   ],
   "source": [
    "# Error handling for missing values in column 'isoelectric_point' by using the mean value\n",
    "\n",
    "# Count how many values are available\n",
    "available_count = df['isoelectric_point'].notna().sum()\n",
    "print(f\"Available data points: {available_count} rows\")\n",
    "\n",
    "# Count missing values\n",
    "missing_count = df['isoelectric_point'].isna().sum()\n",
    "print(f\"Missing values to be filled: {missing_count} rows\")\n",
    "\n",
    "# Fill missing values with the mean of the existing ones\n",
    "if missing_count > 0:\n",
    "    mean_value = df['isoelectric_point'].mean()\n",
    "    df['isoelectric_point'] = df['isoelectric_point'].fillna(mean_value)\n",
    "    print(f\"Missing values were filled using the mean: {mean_value:.2f}\")\n",
    "else:\n",
    "    print(\"No missing values – nothing to fill.\")\n"
   ]
  },
  {
   "cell_type": "markdown",
   "id": "12a82cce",
   "metadata": {},
   "source": [
    "### Encoding Categorical Variables"
   ]
  },
  {
   "cell_type": "code",
   "execution_count": 10,
   "id": "2a53c8c5",
   "metadata": {},
   "outputs": [],
   "source": [
    "# Create dummy variables (dummy columns are uint8 by default)\n",
    "df = pd.get_dummies(df, columns=['protein_format'], drop_first=True)\n",
    "\n",
    "# Identify only the dummy columns\n",
    "dummy_cols = [col for col in df.columns if col.startswith('protein_format_')]\n",
    "\n",
    "# Convert only those dummy columns to int type\n",
    "df[dummy_cols] = df[dummy_cols].astype(int)\n",
    "\n",
    "# Make sure column names are lower case a\n",
    "df.columns = df.columns.str.lower()\n"
   ]
  },
  {
   "cell_type": "code",
   "execution_count": 11,
   "id": "03a7be79",
   "metadata": {},
   "outputs": [
    {
     "name": "stdout",
     "output_type": "stream",
     "text": [
      "<class 'pandas.core.frame.DataFrame'>\n",
      "RangeIndex: 1210 entries, 0 to 1209\n",
      "Data columns (total 17 columns):\n",
      " #   Column                    Non-Null Count  Dtype  \n",
      "---  ------                    --------------  -----  \n",
      " 0   isoelectric_point         1210 non-null   float64\n",
      " 1   molecular_weight_da       1210 non-null   float64\n",
      " 2   product_conc_mg_ml        1210 non-null   float64\n",
      " 3   tm_c                      1210 non-null   float64\n",
      " 4   ph                        1210 non-null   float64\n",
      " 5   kcl_conc                  1210 non-null   float64\n",
      " 6   fructose_conc             1210 non-null   float64\n",
      " 7   succinate_conc            1210 non-null   float64\n",
      " 8   l-lysine_conc             1210 non-null   float64\n",
      " 9   mannitol_conc             1210 non-null   float64\n",
      " 10  ps50_conc                 1210 non-null   float64\n",
      " 11  ps80_conc                 1210 non-null   float64\n",
      " 12  citrate_conc              1210 non-null   float64\n",
      " 13  protein_format_igg3       1210 non-null   int64  \n",
      " 14  protein_format_igg4       1210 non-null   int64  \n",
      " 15  protein_format_knob_hole  1210 non-null   int64  \n",
      " 16  protein_format_nano_mb    1210 non-null   int64  \n",
      "dtypes: float64(13), int64(4)\n",
      "memory usage: 160.8 KB\n"
     ]
    }
   ],
   "source": [
    "df.info()  # Display the DataFrame information to check the data types and non-null counts"
   ]
  },
  {
   "cell_type": "markdown",
   "id": "7185afa2",
   "metadata": {},
   "source": [
    "### Export Preprocessed Data"
   ]
  },
  {
   "cell_type": "code",
   "execution_count": 12,
   "id": "1eeb7a91",
   "metadata": {},
   "outputs": [],
   "source": [
    "#export the DataFrame to a new CSV file and overwrite the existing one \n",
    "df.to_csv('../data/processed/preprocessed_data.csv', index=False)"
   ]
  }
 ],
 "metadata": {
  "kernelspec": {
   "display_name": "project_env",
   "language": "python",
   "name": "python3"
  },
  "language_info": {
   "codemirror_mode": {
    "name": "ipython",
    "version": 3
   },
   "file_extension": ".py",
   "mimetype": "text/x-python",
   "name": "python",
   "nbconvert_exporter": "python",
   "pygments_lexer": "ipython3",
   "version": "3.13.3"
  }
 },
 "nbformat": 4,
 "nbformat_minor": 5
}
